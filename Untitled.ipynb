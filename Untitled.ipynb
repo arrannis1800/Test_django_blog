{
 "cells": [
  {
   "cell_type": "code",
   "execution_count": 2,
   "id": "c728c03f",
   "metadata": {},
   "outputs": [],
   "source": [
    "from django.db import models\n",
    "\n",
    "from blog.models import Post\n"
   ]
  },
  {
   "cell_type": "code",
   "execution_count": 5,
   "id": "8bc85413",
   "metadata": {},
   "outputs": [],
   "source": [
    "post = Post.objects.create(title='ok щл')\n",
    "post.title = 'ok2'\n",
    "post.save()\n"
   ]
  },
  {
   "cell_type": "code",
   "execution_count": 6,
   "id": "ec3c9324",
   "metadata": {},
   "outputs": [
    {
     "data": {
      "text/plain": [
       "<QuerySet ['ok2', 'ok2']>"
      ]
     },
     "execution_count": 6,
     "metadata": {},
     "output_type": "execute_result"
    }
   ],
   "source": [
    "Post.objects.values_list('title',flat=True)"
   ]
  },
  {
   "cell_type": "code",
   "execution_count": null,
   "id": "e154ff32",
   "metadata": {},
   "outputs": [],
   "source": []
  }
 ],
 "metadata": {
  "kernelspec": {
   "display_name": "Django Shell-Plus",
   "language": "python",
   "name": "django_extensions"
  },
  "language_info": {
   "codemirror_mode": {
    "name": "ipython",
    "version": 3
   },
   "file_extension": ".py",
   "mimetype": "text/x-python",
   "name": "python",
   "nbconvert_exporter": "python",
   "pygments_lexer": "ipython3",
   "version": "3.10.6"
  }
 },
 "nbformat": 4,
 "nbformat_minor": 5
}
